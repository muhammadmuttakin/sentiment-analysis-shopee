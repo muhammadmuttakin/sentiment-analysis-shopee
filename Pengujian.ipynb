{
  "nbformat": 4,
  "nbformat_minor": 0,
  "metadata": {
    "colab": {
      "provenance": []
    },
    "kernelspec": {
      "name": "python3",
      "display_name": "Python 3"
    },
    "language_info": {
      "name": "python"
    }
  },
  "cells": [
    {
      "cell_type": "code",
      "source": [
        "import numpy as np\n",
        "import pickle  # untuk load .pkl file\n",
        "from tensorflow.keras.models import load_model  # untuk load model Keras .h5\n"
      ],
      "metadata": {
        "id": "Ff-HkY2TaToN"
      },
      "execution_count": 5,
      "outputs": []
    },
    {
      "cell_type": "code",
      "execution_count": 7,
      "metadata": {
        "colab": {
          "base_uri": "https://localhost:8080/"
        },
        "id": "GxRkvTkXZnXc",
        "outputId": "5daccafe-72f2-4e9e-de9d-9dd5b90ae7bc"
      },
      "outputs": [
        {
          "output_type": "stream",
          "name": "stderr",
          "text": [
            "WARNING:absl:Compiled the loaded model, but the compiled metrics have yet to be built. `model.compile_metrics` will be empty until you train or evaluate the model.\n"
          ]
        }
      ],
      "source": [
        "# ====== 1. LOAD MODEL DAN OBJEK LAINNYA ======\n",
        "# Load model .h5\n",
        "model = load_model(\"/content/model.h5\") # Ensure this file is the newly downloaded one\n",
        "\n",
        "# Load TF-IDF Vectorizer\n",
        "with open(\"tfidf_vectorizer.pkl\", \"rb\") as f:\n",
        "    tfidf = pickle.load(f)\n",
        "\n",
        "# Load Label Encoder\n",
        "with open(\"label_encoder.pkl\", \"rb\") as f:\n",
        "    le = pickle.load(f)"
      ]
    },
    {
      "cell_type": "code",
      "source": [
        "# ====== 2. SIAPKAN DATA UJI BARU ======\n",
        "\n",
        "# --- Opsi A: Input Manual ---\n",
        "data_uji = [\n",
        "    \"Pelayanan sangat buruk dan mengecewakan\",\n",
        "    \"Saya senang dengan hasil akhirnya\",\n",
        "    \"Pengalaman biasa saja, tidak terlalu buruk tapi juga tidak luar biasa\"\n",
        "]\n"
      ],
      "metadata": {
        "id": "DjxcWGxMaXEN"
      },
      "execution_count": 9,
      "outputs": []
    },
    {
      "cell_type": "code",
      "source": [
        "# ====== 3. TRANSFORMASI DAN PREDIKSI ======\n",
        "\n",
        "# Ubah ke vektor TF-IDF\n",
        "X_uji_tfidf = tfidf.transform(data_uji).toarray()\n",
        "\n",
        "# Prediksi dengan model\n",
        "preds = model.predict(X_uji_tfidf)\n",
        "preds_class = np.argmax(preds, axis=1)\n",
        "\n",
        "# Konversi ke label asli\n",
        "predicted_labels = le.inverse_transform(preds_class)"
      ],
      "metadata": {
        "colab": {
          "base_uri": "https://localhost:8080/"
        },
        "id": "34YFLBXQaaf7",
        "outputId": "814ee2d3-1515-4a0a-aeae-2b86e568a25f"
      },
      "execution_count": 10,
      "outputs": [
        {
          "output_type": "stream",
          "name": "stdout",
          "text": [
            "\u001b[1m1/1\u001b[0m \u001b[32m━━━━━━━━━━━━━━━━━━━━\u001b[0m\u001b[37m\u001b[0m \u001b[1m0s\u001b[0m 222ms/step\n"
          ]
        }
      ]
    },
    {
      "cell_type": "code",
      "source": [
        "# ====== 4. TAMPILKAN HASILNYA ======\n",
        "\n",
        "print(\"📊 Hasil Prediksi Sentimen:\\n\")\n",
        "for teks, label, prob in zip(data_uji, predicted_labels, preds):\n",
        "    print(f\"📝 '{teks}'\")\n",
        "    print(f\"➡️  Prediksi: {label} (Confidence: {np.max(prob):.2f})\\n\")"
      ],
      "metadata": {
        "colab": {
          "base_uri": "https://localhost:8080/"
        },
        "id": "EULqMktgarkj",
        "outputId": "0465178e-4738-4361-d0c2-4e7d8e4324e9"
      },
      "execution_count": 11,
      "outputs": [
        {
          "output_type": "stream",
          "name": "stdout",
          "text": [
            "📊 Hasil Prediksi Sentimen:\n",
            "\n",
            "📝 'Pelayanan sangat buruk dan mengecewakan'\n",
            "➡️  Prediksi: Negatif (Confidence: 0.99)\n",
            "\n",
            "📝 'Saya senang dengan hasil akhirnya'\n",
            "➡️  Prediksi: Positif (Confidence: 1.00)\n",
            "\n",
            "📝 'Pengalaman biasa saja, tidak terlalu buruk tapi juga tidak luar biasa'\n",
            "➡️  Prediksi: Netral (Confidence: 1.00)\n",
            "\n"
          ]
        }
      ]
    }
  ]
}